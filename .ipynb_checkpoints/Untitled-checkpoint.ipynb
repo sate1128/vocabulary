{
 "cells": [
  {
   "cell_type": "code",
   "execution_count": null,
   "metadata": {
    "collapsed": true
   },
   "outputs": [],
   "source": []
  },
  {
   "cell_type": "code",
   "execution_count": null,
   "metadata": {},
   "outputs": [],
   "source": [
    "import random\n",
    "vocabularies = []\n",
    "with open('vocabulary.txt','r') as inputfile:\n",
    "    for line in inputfile:\n",
    "        word, meaning = line.split('/')\n",
    "        vocabularies.append([word,meaning])\n",
    "while input()!='EXIT':\n",
    "    question = vocabularies[random.randint(0,len(vocabularies))-1]\n",
    "    answer = input('Q:'+question[1])\n",
    "    if answer == question[0]:\n",
    "        print('Correct!')\n",
    "    else:\n",
    "        print('Wrong! Answer is:',question[0])"
   ]
  },
  {
   "cell_type": "code",
   "execution_count": null,
   "metadata": {
    "collapsed": true
   },
   "outputs": [],
   "source": []
  },
  {
   "cell_type": "code",
   "execution_count": null,
   "metadata": {
    "collapsed": true
   },
   "outputs": [],
   "source": []
  },
  {
   "cell_type": "code",
   "execution_count": null,
   "metadata": {
    "collapsed": true
   },
   "outputs": [],
   "source": []
  }
 ],
 "metadata": {
  "kernelspec": {
   "display_name": "Python 3",
   "language": "python",
   "name": "python3"
  },
  "language_info": {
   "codemirror_mode": {
    "name": "ipython",
    "version": 3
   },
   "file_extension": ".py",
   "mimetype": "text/x-python",
   "name": "python",
   "nbconvert_exporter": "python",
   "pygments_lexer": "ipython3",
   "version": "3.6.2"
  }
 },
 "nbformat": 4,
 "nbformat_minor": 2
}
